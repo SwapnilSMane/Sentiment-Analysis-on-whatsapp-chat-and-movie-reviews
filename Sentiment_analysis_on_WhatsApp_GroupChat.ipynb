{
 "cells": [
  {
   "cell_type": "markdown",
   "metadata": {},
   "source": [
    "<h1><b>Sentiment Anlysis on Group WhatsApp chat"
   ]
  },
  {
   "cell_type": "code",
   "execution_count": 1,
   "metadata": {},
   "outputs": [],
   "source": [
    "import numpy as np \n",
    "import pandas as pd \n",
    "import matplotlib.pyplot as plt\n",
    "import seaborn as sns\n",
    "\n",
    "%matplotlib inline"
   ]
  },
  {
   "cell_type": "code",
   "execution_count": 35,
   "metadata": {
    "scrolled": true
   },
   "outputs": [],
   "source": [
    "chat =  pd.read_csv('/root/Documents/Projects/NLP/NLP Datasets/WhatsApp-Chat/WhatsApp Chat with IS Boys☠.txt',error_bad_lines=False,names=['date','details'])"
   ]
  },
  {
   "cell_type": "code",
   "execution_count": 3,
   "metadata": {},
   "outputs": [
    {
     "data": {
      "text/html": [
       "<div>\n",
       "<style scoped>\n",
       "    .dataframe tbody tr th:only-of-type {\n",
       "        vertical-align: middle;\n",
       "    }\n",
       "\n",
       "    .dataframe tbody tr th {\n",
       "        vertical-align: top;\n",
       "    }\n",
       "\n",
       "    .dataframe thead th {\n",
       "        text-align: right;\n",
       "    }\n",
       "</style>\n",
       "<table border=\"1\" class=\"dataframe\">\n",
       "  <thead>\n",
       "    <tr style=\"text-align: right;\">\n",
       "      <th></th>\n",
       "      <th>date</th>\n",
       "      <th>details</th>\n",
       "    </tr>\n",
       "  </thead>\n",
       "  <tbody>\n",
       "    <tr>\n",
       "      <td>0</td>\n",
       "      <td>9/22/19</td>\n",
       "      <td>8:41 AM - Messages to this group are now secu...</td>\n",
       "    </tr>\n",
       "    <tr>\n",
       "      <td>1</td>\n",
       "      <td>9/22/19</td>\n",
       "      <td>8:34 AM - Mukund Coep: 😂😂😂</td>\n",
       "    </tr>\n",
       "    <tr>\n",
       "      <td>2</td>\n",
       "      <td>9/12/19</td>\n",
       "      <td>11:20 AM - Mukund Coep created group \"IS Boys☠\"</td>\n",
       "    </tr>\n",
       "    <tr>\n",
       "      <td>3</td>\n",
       "      <td>9/22/19</td>\n",
       "      <td>8:34 AM - Mukund Coep added you</td>\n",
       "    </tr>\n",
       "    <tr>\n",
       "      <td>4</td>\n",
       "      <td>9/22/19</td>\n",
       "      <td>9:59 AM - Akash Coep: 😂😂😂</td>\n",
       "    </tr>\n",
       "  </tbody>\n",
       "</table>\n",
       "</div>"
      ],
      "text/plain": [
       "      date                                            details\n",
       "0  9/22/19   8:41 AM - Messages to this group are now secu...\n",
       "1  9/22/19                         8:34 AM - Mukund Coep: 😂😂😂\n",
       "2  9/12/19    11:20 AM - Mukund Coep created group \"IS Boys☠\"\n",
       "3  9/22/19                    8:34 AM - Mukund Coep added you\n",
       "4  9/22/19                          9:59 AM - Akash Coep: 😂😂😂"
      ]
     },
     "execution_count": 3,
     "metadata": {},
     "output_type": "execute_result"
    }
   ],
   "source": [
    "chat.head()"
   ]
  },
  {
   "cell_type": "code",
   "execution_count": 4,
   "metadata": {},
   "outputs": [],
   "source": [
    "chat.drop('date',axis=1,inplace=True)"
   ]
  },
  {
   "cell_type": "code",
   "execution_count": 5,
   "metadata": {},
   "outputs": [],
   "source": [
    "chat.drop(0,inplace=True)"
   ]
  },
  {
   "cell_type": "code",
   "execution_count": 6,
   "metadata": {},
   "outputs": [
    {
     "data": {
      "text/html": [
       "<div>\n",
       "<style scoped>\n",
       "    .dataframe tbody tr th:only-of-type {\n",
       "        vertical-align: middle;\n",
       "    }\n",
       "\n",
       "    .dataframe tbody tr th {\n",
       "        vertical-align: top;\n",
       "    }\n",
       "\n",
       "    .dataframe thead th {\n",
       "        text-align: right;\n",
       "    }\n",
       "</style>\n",
       "<table border=\"1\" class=\"dataframe\">\n",
       "  <thead>\n",
       "    <tr style=\"text-align: right;\">\n",
       "      <th></th>\n",
       "      <th>details</th>\n",
       "    </tr>\n",
       "  </thead>\n",
       "  <tbody>\n",
       "    <tr>\n",
       "      <td>1</td>\n",
       "      <td>8:34 AM - Mukund Coep: 😂😂😂</td>\n",
       "    </tr>\n",
       "    <tr>\n",
       "      <td>2</td>\n",
       "      <td>11:20 AM - Mukund Coep created group \"IS Boys☠\"</td>\n",
       "    </tr>\n",
       "    <tr>\n",
       "      <td>3</td>\n",
       "      <td>8:34 AM - Mukund Coep added you</td>\n",
       "    </tr>\n",
       "    <tr>\n",
       "      <td>4</td>\n",
       "      <td>9:59 AM - Akash Coep: 😂😂😂</td>\n",
       "    </tr>\n",
       "    <tr>\n",
       "      <td>5</td>\n",
       "      <td>11:13 AM - Amar Coep: 😂😂😂😂</td>\n",
       "    </tr>\n",
       "  </tbody>\n",
       "</table>\n",
       "</div>"
      ],
      "text/plain": [
       "                                            details\n",
       "1                        8:34 AM - Mukund Coep: 😂😂😂\n",
       "2   11:20 AM - Mukund Coep created group \"IS Boys☠\"\n",
       "3                   8:34 AM - Mukund Coep added you\n",
       "4                         9:59 AM - Akash Coep: 😂😂😂\n",
       "5                        11:13 AM - Amar Coep: 😂😂😂😂"
      ]
     },
     "execution_count": 6,
     "metadata": {},
     "output_type": "execute_result"
    }
   ],
   "source": [
    "chat.head()"
   ]
  },
  {
   "cell_type": "code",
   "execution_count": 7,
   "metadata": {},
   "outputs": [
    {
     "data": {
      "text/plain": [
       "[' Mukund Coep', ' 😂😂😂']"
      ]
     },
     "execution_count": 7,
     "metadata": {},
     "output_type": "execute_result"
    }
   ],
   "source": [
    "chat['details'][1].split('-')[1].split(':')"
   ]
  },
  {
   "cell_type": "code",
   "execution_count": 8,
   "metadata": {},
   "outputs": [],
   "source": [
    "chat['Info']=chat['details'].apply(lambda x: str(x).split('-')[-1])\n",
    "chat['user']=chat['Info'].apply(lambda x: str(x).split(':')[0])\n",
    "chat['msg']=chat['Info'].apply(lambda x: str(x).split(':')[-1])"
   ]
  },
  {
   "cell_type": "code",
   "execution_count": 9,
   "metadata": {},
   "outputs": [],
   "source": [
    "chat.drop(['details','Info'],axis=1,inplace=True)"
   ]
  },
  {
   "cell_type": "code",
   "execution_count": 10,
   "metadata": {},
   "outputs": [
    {
     "data": {
      "text/plain": [
       " Ritendra🙂                               131\n",
       " Akash Coep                               59\n",
       " Amar Coep                                55\n",
       " Mukund Coep                              33\n",
       " Jayesh IS COEP                           26\n",
       " Pushkaraj Coep                           16\n",
       " Ashish Coep                              16\n",
       " Swapnil Coep                             13\n",
       " Atharva Coep                             11\n",
       "hB1TzoG7M                                  1\n",
       "2 ahe                                      1\n",
       " Mukund Coep created group \"IS Boys☠\"      1\n",
       "E[x]^2                                     1\n",
       " 3.5| > 2.5}                               1\n",
       " You changed this group's icon             1\n",
       "nan                                        1\n",
       " Mukund Coep added you                     1\n",
       " Shubham Coep                              1\n",
       "Name: user, dtype: int64"
      ]
     },
     "execution_count": 10,
     "metadata": {},
     "output_type": "execute_result"
    }
   ],
   "source": [
    "chat['user'].value_counts()"
   ]
  },
  {
   "cell_type": "code",
   "execution_count": 11,
   "metadata": {},
   "outputs": [],
   "source": [
    "\n",
    "unusally = []\n",
    "chat.dropna(inplace=True)\n",
    "\n",
    "for i,user in chat['user'].iteritems():\n",
    "    if (user==\" You changed this group's icon\") or (user==\"2 ahe\") or (user==\"E[x]^2\")or(user==' Mukund Coep created group \"IS Boys☠\"')or(user==' 3.5| > 2.5}')or(user==\" Mukund Coep added you\")or(user=='hB1TzoG7M')or(user=='nan'):\n",
    "        unusally.append(i)"
   ]
  },
  {
   "cell_type": "code",
   "execution_count": 12,
   "metadata": {},
   "outputs": [],
   "source": [
    "chat.drop(unusally,inplace=True)"
   ]
  },
  {
   "cell_type": "code",
   "execution_count": 13,
   "metadata": {},
   "outputs": [
    {
     "data": {
      "text/plain": [
       " Ritendra🙂         131\n",
       " Akash Coep         59\n",
       " Amar Coep          55\n",
       " Mukund Coep        33\n",
       " Jayesh IS COEP     26\n",
       " Ashish Coep        16\n",
       " Pushkaraj Coep     16\n",
       " Swapnil Coep       13\n",
       " Atharva Coep       11\n",
       " Shubham Coep        1\n",
       "Name: user, dtype: int64"
      ]
     },
     "execution_count": 13,
     "metadata": {},
     "output_type": "execute_result"
    }
   ],
   "source": [
    "chat['user'].value_counts()"
   ]
  },
  {
   "cell_type": "code",
   "execution_count": 14,
   "metadata": {},
   "outputs": [
    {
     "data": {
      "text/html": [
       "<div>\n",
       "<style scoped>\n",
       "    .dataframe tbody tr th:only-of-type {\n",
       "        vertical-align: middle;\n",
       "    }\n",
       "\n",
       "    .dataframe tbody tr th {\n",
       "        vertical-align: top;\n",
       "    }\n",
       "\n",
       "    .dataframe thead th {\n",
       "        text-align: right;\n",
       "    }\n",
       "</style>\n",
       "<table border=\"1\" class=\"dataframe\">\n",
       "  <thead>\n",
       "    <tr style=\"text-align: right;\">\n",
       "      <th></th>\n",
       "      <th>user</th>\n",
       "      <th>msg</th>\n",
       "    </tr>\n",
       "  </thead>\n",
       "  <tbody>\n",
       "    <tr>\n",
       "      <td>1</td>\n",
       "      <td>Mukund Coep</td>\n",
       "      <td>😂😂😂</td>\n",
       "    </tr>\n",
       "    <tr>\n",
       "      <td>4</td>\n",
       "      <td>Akash Coep</td>\n",
       "      <td>😂😂😂</td>\n",
       "    </tr>\n",
       "    <tr>\n",
       "      <td>5</td>\n",
       "      <td>Amar Coep</td>\n",
       "      <td>😂😂😂😂</td>\n",
       "    </tr>\n",
       "    <tr>\n",
       "      <td>6</td>\n",
       "      <td>Akash Coep</td>\n",
       "      <td>&lt;Media omitted&gt;</td>\n",
       "    </tr>\n",
       "    <tr>\n",
       "      <td>7</td>\n",
       "      <td>Mukund Coep</td>\n",
       "      <td>😂😂</td>\n",
       "    </tr>\n",
       "  </tbody>\n",
       "</table>\n",
       "</div>"
      ],
      "text/plain": [
       "           user               msg\n",
       "1   Mukund Coep               😂😂😂\n",
       "4    Akash Coep               😂😂😂\n",
       "5     Amar Coep              😂😂😂😂\n",
       "6    Akash Coep   <Media omitted>\n",
       "7   Mukund Coep                😂😂"
      ]
     },
     "execution_count": 14,
     "metadata": {},
     "output_type": "execute_result"
    }
   ],
   "source": [
    "chat.head()"
   ]
  },
  {
   "cell_type": "code",
   "execution_count": 15,
   "metadata": {},
   "outputs": [
    {
     "name": "stdout",
     "output_type": "stream",
     "text": [
      "<class 'pandas.core.frame.DataFrame'>\n",
      "Int64Index: 361 entries, 1 to 369\n",
      "Data columns (total 2 columns):\n",
      "user    361 non-null object\n",
      "msg     361 non-null object\n",
      "dtypes: object(2)\n",
      "memory usage: 8.5+ KB\n"
     ]
    }
   ],
   "source": [
    "chat.info()"
   ]
  },
  {
   "cell_type": "code",
   "execution_count": 16,
   "metadata": {},
   "outputs": [],
   "source": [
    "#remove nan and empty row\n",
    "\n",
    "blank = []\n",
    "chat.dropna(inplace=True)\n",
    "\n",
    "for i,msg in chat.msg.iteritems():\n",
    "    if type(msg) == str:\n",
    "        if msg.isspace():\n",
    "            blank.append(i)"
   ]
  },
  {
   "cell_type": "code",
   "execution_count": 17,
   "metadata": {},
   "outputs": [
    {
     "data": {
      "text/plain": [
       "[]"
      ]
     },
     "execution_count": 17,
     "metadata": {},
     "output_type": "execute_result"
    }
   ],
   "source": [
    "blank"
   ]
  },
  {
   "cell_type": "code",
   "execution_count": 36,
   "metadata": {},
   "outputs": [],
   "source": [
    "#emoji explaning in text\n",
    "import re\n",
    "from emot.emo_unicode import UNICODE_EMO,EMOTICONS"
   ]
  },
  {
   "cell_type": "code",
   "execution_count": 19,
   "metadata": {},
   "outputs": [
    {
     "data": {
      "text/plain": [
       "'swap face with tears of joy. The feeling of making a sale smiling face with sunglasses, The feeling of actually fulfilling orders unamused face'"
      ]
     },
     "execution_count": 19,
     "metadata": {},
     "output_type": "execute_result"
    }
   ],
   "source": [
    "def emoToText(text):\n",
    "    for em in UNICODE_EMO:\n",
    "        text = text.replace(em,''.join(UNICODE_EMO[em]).replace(\"_\",\" \").replace(\":\",\"\"))\n",
    "    return text\n",
    "\n",
    "txt=\"swap 😂. The feeling of making a sale 😎, The feeling of actually fulfilling orders 😒\"\n",
    "emoToText(txt)"
   ]
  },
  {
   "cell_type": "code",
   "execution_count": 20,
   "metadata": {},
   "outputs": [],
   "source": [
    "chat['Updated_msg'] = chat['msg'].apply(lambda x: emoToText(x))"
   ]
  },
  {
   "cell_type": "code",
   "execution_count": 21,
   "metadata": {},
   "outputs": [],
   "source": [
    "import nltk\n",
    "from nltk.sentiment.vader import SentimentIntensityAnalyzer"
   ]
  },
  {
   "cell_type": "code",
   "execution_count": 22,
   "metadata": {},
   "outputs": [],
   "source": [
    "sid = SentimentIntensityAnalyzer()"
   ]
  },
  {
   "cell_type": "code",
   "execution_count": 23,
   "metadata": {},
   "outputs": [
    {
     "data": {
      "text/plain": [
       "{'neg': 0.0, 'neu': 1.0, 'pos': 0.0, 'compound': 0.0}"
      ]
     },
     "execution_count": 23,
     "metadata": {},
     "output_type": "execute_result"
    }
   ],
   "source": [
    "a = 'movie is very good and very beutyfull'\n",
    "sid.polarity_scores(chat['msg'][356])"
   ]
  },
  {
   "cell_type": "code",
   "execution_count": 24,
   "metadata": {},
   "outputs": [
    {
     "data": {
      "text/plain": [
       "1      0.0258\n",
       "4      0.0258\n",
       "5     -0.2023\n",
       "6      0.0000\n",
       "7      0.2500\n",
       "        ...  \n",
       "365    0.0000\n",
       "366    0.0000\n",
       "367    0.0000\n",
       "368    0.4588\n",
       "369    0.2500\n",
       "Name: Updated_msg, Length: 361, dtype: float64"
      ]
     },
     "execution_count": 24,
     "metadata": {},
     "output_type": "execute_result"
    }
   ],
   "source": [
    "chat['Updated_msg'].apply(lambda x: sid.polarity_scores(x)['compound'])"
   ]
  },
  {
   "cell_type": "code",
   "execution_count": 25,
   "metadata": {},
   "outputs": [],
   "source": [
    "chat['compound_score']=chat['Updated_msg'].apply(lambda x: sid.polarity_scores(x)['compound'])"
   ]
  },
  {
   "cell_type": "code",
   "execution_count": 26,
   "metadata": {},
   "outputs": [
    {
     "data": {
      "text/html": [
       "<div>\n",
       "<style scoped>\n",
       "    .dataframe tbody tr th:only-of-type {\n",
       "        vertical-align: middle;\n",
       "    }\n",
       "\n",
       "    .dataframe tbody tr th {\n",
       "        vertical-align: top;\n",
       "    }\n",
       "\n",
       "    .dataframe thead th {\n",
       "        text-align: right;\n",
       "    }\n",
       "</style>\n",
       "<table border=\"1\" class=\"dataframe\">\n",
       "  <thead>\n",
       "    <tr style=\"text-align: right;\">\n",
       "      <th></th>\n",
       "      <th>user</th>\n",
       "      <th>msg</th>\n",
       "      <th>Updated_msg</th>\n",
       "      <th>compound_score</th>\n",
       "    </tr>\n",
       "  </thead>\n",
       "  <tbody>\n",
       "    <tr>\n",
       "      <td>1</td>\n",
       "      <td>Mukund Coep</td>\n",
       "      <td>😂😂😂</td>\n",
       "      <td>face with tears of joyface with tears of joyf...</td>\n",
       "      <td>0.0258</td>\n",
       "    </tr>\n",
       "    <tr>\n",
       "      <td>4</td>\n",
       "      <td>Akash Coep</td>\n",
       "      <td>😂😂😂</td>\n",
       "      <td>face with tears of joyface with tears of joyf...</td>\n",
       "      <td>0.0258</td>\n",
       "    </tr>\n",
       "    <tr>\n",
       "      <td>5</td>\n",
       "      <td>Amar Coep</td>\n",
       "      <td>😂😂😂😂</td>\n",
       "      <td>face with tears of joyface with tears of joyf...</td>\n",
       "      <td>-0.2023</td>\n",
       "    </tr>\n",
       "    <tr>\n",
       "      <td>6</td>\n",
       "      <td>Akash Coep</td>\n",
       "      <td>&lt;Media omitted&gt;</td>\n",
       "      <td>&lt;Media omitted&gt;</td>\n",
       "      <td>0.0000</td>\n",
       "    </tr>\n",
       "    <tr>\n",
       "      <td>7</td>\n",
       "      <td>Mukund Coep</td>\n",
       "      <td>😂😂</td>\n",
       "      <td>face with tears of joyface with tears of joy</td>\n",
       "      <td>0.2500</td>\n",
       "    </tr>\n",
       "  </tbody>\n",
       "</table>\n",
       "</div>"
      ],
      "text/plain": [
       "           user               msg  \\\n",
       "1   Mukund Coep               😂😂😂   \n",
       "4    Akash Coep               😂😂😂   \n",
       "5     Amar Coep              😂😂😂😂   \n",
       "6    Akash Coep   <Media omitted>   \n",
       "7   Mukund Coep                😂😂   \n",
       "\n",
       "                                         Updated_msg  compound_score  \n",
       "1   face with tears of joyface with tears of joyf...          0.0258  \n",
       "4   face with tears of joyface with tears of joyf...          0.0258  \n",
       "5   face with tears of joyface with tears of joyf...         -0.2023  \n",
       "6                                    <Media omitted>          0.0000  \n",
       "7       face with tears of joyface with tears of joy          0.2500  "
      ]
     },
     "execution_count": 26,
     "metadata": {},
     "output_type": "execute_result"
    }
   ],
   "source": [
    "chat.head()"
   ]
  },
  {
   "cell_type": "code",
   "execution_count": 27,
   "metadata": {},
   "outputs": [],
   "source": [
    "chat['emotions']=chat['compound_score'].apply(lambda x: 'Positive' if x>0 else('Neutral' if x==0 else 'Negative'))"
   ]
  },
  {
   "cell_type": "code",
   "execution_count": 28,
   "metadata": {},
   "outputs": [
    {
     "data": {
      "text/html": [
       "<div>\n",
       "<style scoped>\n",
       "    .dataframe tbody tr th:only-of-type {\n",
       "        vertical-align: middle;\n",
       "    }\n",
       "\n",
       "    .dataframe tbody tr th {\n",
       "        vertical-align: top;\n",
       "    }\n",
       "\n",
       "    .dataframe thead th {\n",
       "        text-align: right;\n",
       "    }\n",
       "</style>\n",
       "<table border=\"1\" class=\"dataframe\">\n",
       "  <thead>\n",
       "    <tr style=\"text-align: right;\">\n",
       "      <th></th>\n",
       "      <th>user</th>\n",
       "      <th>msg</th>\n",
       "      <th>Updated_msg</th>\n",
       "      <th>compound_score</th>\n",
       "      <th>emotions</th>\n",
       "    </tr>\n",
       "  </thead>\n",
       "  <tbody>\n",
       "    <tr>\n",
       "      <td>1</td>\n",
       "      <td>Mukund Coep</td>\n",
       "      <td>😂😂😂</td>\n",
       "      <td>face with tears of joyface with tears of joyf...</td>\n",
       "      <td>0.0258</td>\n",
       "      <td>Positive</td>\n",
       "    </tr>\n",
       "    <tr>\n",
       "      <td>4</td>\n",
       "      <td>Akash Coep</td>\n",
       "      <td>😂😂😂</td>\n",
       "      <td>face with tears of joyface with tears of joyf...</td>\n",
       "      <td>0.0258</td>\n",
       "      <td>Positive</td>\n",
       "    </tr>\n",
       "    <tr>\n",
       "      <td>5</td>\n",
       "      <td>Amar Coep</td>\n",
       "      <td>😂😂😂😂</td>\n",
       "      <td>face with tears of joyface with tears of joyf...</td>\n",
       "      <td>-0.2023</td>\n",
       "      <td>Negative</td>\n",
       "    </tr>\n",
       "    <tr>\n",
       "      <td>6</td>\n",
       "      <td>Akash Coep</td>\n",
       "      <td>&lt;Media omitted&gt;</td>\n",
       "      <td>&lt;Media omitted&gt;</td>\n",
       "      <td>0.0000</td>\n",
       "      <td>Neutral</td>\n",
       "    </tr>\n",
       "    <tr>\n",
       "      <td>7</td>\n",
       "      <td>Mukund Coep</td>\n",
       "      <td>😂😂</td>\n",
       "      <td>face with tears of joyface with tears of joy</td>\n",
       "      <td>0.2500</td>\n",
       "      <td>Positive</td>\n",
       "    </tr>\n",
       "  </tbody>\n",
       "</table>\n",
       "</div>"
      ],
      "text/plain": [
       "           user               msg  \\\n",
       "1   Mukund Coep               😂😂😂   \n",
       "4    Akash Coep               😂😂😂   \n",
       "5     Amar Coep              😂😂😂😂   \n",
       "6    Akash Coep   <Media omitted>   \n",
       "7   Mukund Coep                😂😂   \n",
       "\n",
       "                                         Updated_msg  compound_score  emotions  \n",
       "1   face with tears of joyface with tears of joyf...          0.0258  Positive  \n",
       "4   face with tears of joyface with tears of joyf...          0.0258  Positive  \n",
       "5   face with tears of joyface with tears of joyf...         -0.2023  Negative  \n",
       "6                                    <Media omitted>          0.0000   Neutral  \n",
       "7       face with tears of joyface with tears of joy          0.2500  Positive  "
      ]
     },
     "execution_count": 28,
     "metadata": {},
     "output_type": "execute_result"
    }
   ],
   "source": [
    "chat.head()"
   ]
  },
  {
   "cell_type": "code",
   "execution_count": 29,
   "metadata": {},
   "outputs": [
    {
     "data": {
      "text/plain": [
       "<matplotlib.axes._subplots.AxesSubplot at 0x7fdbc8352650>"
      ]
     },
     "execution_count": 29,
     "metadata": {},
     "output_type": "execute_result"
    },
    {
     "data": {
      "image/png": "[encoded data removed]",
      "text/plain": [
       "<Figure size 432x288 with 1 Axes>"
      ]
     },
     "metadata": {
      "needs_background": "light"
     },
     "output_type": "display_data"
    }
   ],
   "source": [
    "#overall emotions\n",
    "sns.countplot(chat['emotions'])"
   ]
  },
  {
   "cell_type": "code",
   "execution_count": 30,
   "metadata": {},
   "outputs": [
    {
     "data": {
      "text/plain": [
       "<matplotlib.axes._subplots.AxesSubplot at 0x7fdbc80e1350>"
      ]
     },
     "execution_count": 30,
     "metadata": {},
     "output_type": "execute_result"
    },
    {
     "data": {
      "image/png": "[encoded data removed]",
      "text/plain": [
       "<Figure size 432x288 with 1 Axes>"
      ]
     },
     "metadata": {
      "needs_background": "light"
     },
     "output_type": "display_data"
    }
   ],
   "source": [
    "#Ritendra emotions during chat\n",
    "sns.countplot(chat[chat['user']==' Mukund Coep']['emotions'])"
   ]
  },
  {
   "cell_type": "code",
   "execution_count": 31,
   "metadata": {},
   "outputs": [],
   "source": [
    "#pip install emot"
   ]
  },
  {
   "cell_type": "code",
   "execution_count": 32,
   "metadata": {},
   "outputs": [
    {
     "data": {
      "text/plain": [
       "<matplotlib.axes._subplots.AxesSubplot at 0x7fdbc805ad50>"
      ]
     },
     "execution_count": 32,
     "metadata": {},
     "output_type": "execute_result"
    },
    {
     "data": {
      "image/png": "[encoded data removed]",
      "text/plain": [
       "<Figure size 432x288 with 1 Axes>"
      ]
     },
     "metadata": {
      "needs_background": "light"
     },
     "output_type": "display_data"
    }
   ],
   "source": [
    "#Swapnil emotions during chat\n",
    "sns.countplot(chat[chat['user']==' Swapnil Coep']['emotions'])"
   ]
  },
  {
   "cell_type": "code",
   "execution_count": 34,
   "metadata": {},
   "outputs": [
    {
     "data": {
      "text/plain": [
       "<matplotlib.axes._subplots.AxesSubplot at 0x7fdbc7efef50>"
      ]
     },
     "execution_count": 34,
     "metadata": {},
     "output_type": "execute_result"
    },
    {
     "data": {
      "image/png": "[encoded data removed]",
      "text/plain": [
       "<Figure size 576x288 with 1 Axes>"
      ]
     },
     "metadata": {
      "needs_background": "light"
     },
     "output_type": "display_data"
    }
   ],
   "source": [
    "plt.figure(figsize=(8,4))\n",
    "sns.countplot(chat['emotions'],hue=chat['user'])"
   ]
  },
  {
   "cell_type": "code",
   "execution_count": null,
   "metadata": {},
   "outputs": [],
   "source": []
  }
 ],
 "metadata": {
  "kernelspec": {
   "display_name": "Python 3",
   "language": "python",
   "name": "python3"
  },
  "language_info": {
   "codemirror_mode": {
    "name": "ipython",
    "version": 3
   },
   "file_extension": ".py",
   "mimetype": "text/x-python",
   "name": "python",
   "nbconvert_exporter": "python",
   "pygments_lexer": "ipython3",
   "version": "3.7.4"
  }
 },
 "nbformat": 4,
 "nbformat_minor": 4
}
